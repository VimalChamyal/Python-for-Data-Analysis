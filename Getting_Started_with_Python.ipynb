{
  "nbformat": 4,
  "nbformat_minor": 0,
  "metadata": {
    "colab": {
      "provenance": [],
      "authorship_tag": "ABX9TyNJrN35BKaDTg4a5aGVFvnf",
      "include_colab_link": true
    },
    "kernelspec": {
      "name": "python3",
      "display_name": "Python 3"
    },
    "language_info": {
      "name": "python"
    }
  },
  "cells": [
    {
      "cell_type": "markdown",
      "metadata": {
        "id": "view-in-github",
        "colab_type": "text"
      },
      "source": [
        "<a href=\"https://colab.research.google.com/github/VimalChamyal/Python-for-Data-Analysis/blob/main/Getting_Started_with_Python.ipynb\" target=\"_parent\"><img src=\"https://colab.research.google.com/assets/colab-badge.svg\" alt=\"Open In Colab\"/></a>"
      ]
    },
    {
      "cell_type": "markdown",
      "source": [
        "**Program & Programing Language:**\n",
        "\n",
        "A set of instructions to be executed by a\n",
        "computer to carry out a specific task is called a program\n",
        "\n",
        "The language used to specify the set of instructions to the computer is called a programming language."
      ],
      "metadata": {
        "id": "DUKauoBHZcMu"
      }
    },
    {
      "cell_type": "markdown",
      "source": [
        "**Machine Language:**\n",
        "\n",
        "We know that computers understand the language\n",
        "of 0s and 1s which is called machine language or **low\n",
        "level** language.\n",
        "\n",
        "The program written in a high-level language is called\n",
        "source code. (This is something that we write/code. For example: Python code written by us to solve a particular problem)"
      ],
      "metadata": {
        "id": "1mHCAEGKZ0FG"
      }
    },
    {
      "cell_type": "markdown",
      "source": [
        "**Interpreter**\n",
        "\n",
        "Python uses an interpreter to convert its instructions\n",
        "into machine language, so that it can be understood\n",
        "by the computer.\n",
        "\n",
        "\n",
        "**How an interpreter works ?**\n",
        "\n",
        "An *interpreter processes the program\n",
        "statements one by one*, first translating and then\n",
        "executing.\n",
        "\n",
        "This process is continued until an error\n",
        "is encountered or the whole program is executed\n",
        "successfully.\n",
        "\n",
        "In both the cases, program execution\n",
        "will stop."
      ],
      "metadata": {
        "id": "UY7P_Ks-ac8w"
      }
    },
    {
      "cell_type": "markdown",
      "source": [
        "**Features of Python**\n",
        "\n",
        "1. Python is a high level language. It is a free and\n",
        "open source language.\n",
        "\n",
        "2. It is an interpreted language, as Python programs\n",
        "are executed by an interpreter.\n",
        "\n",
        "3. Python programs are easy to understand as\n",
        "they have a clearly defined syntax and relatively\n",
        "simple structure.\n",
        "\n",
        "4. Python is case-sensitive. For example, NUMBER\n",
        "and number are not same in Python.\n",
        "\n",
        "5. Python is portable and platform independent,\n",
        "means it can run on various operating systems and\n",
        "hardware platforms.\n",
        "\n",
        "6. Python has a rich library of predefined functions.\n",
        "\n",
        "7. Python is also helpful in web development. Many\n",
        "popular web services and applications are built\n",
        "using Python.\n",
        "\n",
        "8. Python uses indentation for blocks."
      ],
      "metadata": {
        "id": "0D6yG8u6a0p3"
      }
    },
    {
      "cell_type": "markdown",
      "source": [
        "**Variables**\n",
        "\n",
        "Variable in Python refers to an object — an\n",
        "item or element that is stored in the memory."
      ],
      "metadata": {
        "id": "qreT_uUudPSV"
      }
    },
    {
      "cell_type": "markdown",
      "source": [
        "**Keywords in Python**\n",
        "\n",
        "Keywords are reserved words.\n",
        "\n",
        "Each keyword has a specific meaning to the Python interpreter, and we can\n",
        "use a keyword in our program only for the purpose for\n",
        "which it has been defined.\n",
        "\n",
        "Hence the keywords can't be used to name a variable.\n",
        "\n",
        "Examples of a few reserve keywords:\n",
        "1. def - Used to define a function\n",
        "2. if - Used to write a conditional statement\n",
        "3. else - Same as above\n",
        "4. True - It's a boolean\n",
        "5. class - To create a class (OOPS concept)\n",
        "6. for - for loop\n",
        "7. while - while loop"
      ],
      "metadata": {
        "id": "1Y-WkfhMcb-e"
      }
    },
    {
      "cell_type": "markdown",
      "source": [
        "**Comments in Python**\n",
        "\n",
        "Comments are used to add a remark or a note in the\n",
        "source code.\n",
        "\n",
        "They are added with the purpose of making the source\n",
        "code easier for humans to understand.\n",
        "\n",
        "In Python, **a comment starts with # (hash sign)**.\n",
        "Everything *following the # till the end of that line is\n",
        "treated as a comment* and the interpreter simply ignores\n",
        "it while executing the statement."
      ],
      "metadata": {
        "id": "aynsSmetbidT"
      }
    },
    {
      "cell_type": "markdown",
      "source": [
        "**Program 1**: Write a program to show print statement"
      ],
      "metadata": {
        "id": "arxJQ8-lbNTW"
      }
    },
    {
      "cell_type": "code",
      "source": [
        "print(\"I am a student\")\n",
        "\n",
        "# The print funtion is used to show the output.\n",
        "# Inside the print function we pass whatever we want to see as the output"
      ],
      "metadata": {
        "colab": {
          "base_uri": "https://localhost:8080/"
        },
        "id": "A9FY4k3mbM2l",
        "outputId": "3ed0940f-e3d4-4a11-9469-7c4b0889631b"
      },
      "execution_count": 3,
      "outputs": [
        {
          "output_type": "stream",
          "name": "stdout",
          "text": [
            "I am a student\n"
          ]
        }
      ]
    },
    {
      "cell_type": "code",
      "execution_count": 5,
      "metadata": {
        "colab": {
          "base_uri": "https://localhost:8080/"
        },
        "id": "5Aj65NnFZPTG",
        "outputId": "de54d459-4458-4881-89d7-8291b1289038"
      },
      "outputs": [
        {
          "output_type": "stream",
          "name": "stdout",
          "text": [
            "My name is Vimal\n"
          ]
        }
      ],
      "source": [
        "my_name = 'Vimal'\n",
        "\n",
        "print(\"My name is\", my_name)"
      ]
    },
    {
      "cell_type": "markdown",
      "source": [
        "**Program 2:** Write a program to display values of\n",
        "variables in Python."
      ],
      "metadata": {
        "id": "gY5J-BZwdce7"
      }
    },
    {
      "cell_type": "code",
      "source": [
        "price = 778\n",
        "# The value 778 has been assigned to a variable named price\n",
        "\n",
        "print(price)\n",
        "# To see the value of assigned to the 'price' varible in the output"
      ],
      "metadata": {
        "colab": {
          "base_uri": "https://localhost:8080/"
        },
        "id": "5MskkJhwdcGM",
        "outputId": "2cf134f2-101e-4df6-86d2-c5735da9cff8"
      },
      "execution_count": 6,
      "outputs": [
        {
          "output_type": "stream",
          "name": "stdout",
          "text": [
            "778\n"
          ]
        }
      ]
    },
    {
      "cell_type": "code",
      "source": [
        "type(price)"
      ],
      "metadata": {
        "colab": {
          "base_uri": "https://localhost:8080/"
        },
        "id": "NT14PSIev5cQ",
        "outputId": "e21ed048-5626-47d2-d4df-de994793dc3c"
      },
      "execution_count": 87,
      "outputs": [
        {
          "output_type": "execute_result",
          "data": {
            "text/plain": [
              "int"
            ]
          },
          "metadata": {},
          "execution_count": 87
        }
      ]
    },
    {
      "cell_type": "code",
      "source": [
        "gender = 'Male'\n",
        "print(gender)"
      ],
      "metadata": {
        "colab": {
          "base_uri": "https://localhost:8080/"
        },
        "id": "Tr8ZBwcvcPRf",
        "outputId": "6c13a1d3-38bd-4a44-8c20-7b5d4aaa9ab4"
      },
      "execution_count": 7,
      "outputs": [
        {
          "output_type": "stream",
          "name": "stdout",
          "text": [
            "Male\n"
          ]
        }
      ]
    },
    {
      "cell_type": "code",
      "source": [
        "IMDB_rating = 8.1\n",
        "print(IMDB_rating)"
      ],
      "metadata": {
        "colab": {
          "base_uri": "https://localhost:8080/"
        },
        "id": "AZ08cEYPd6Wt",
        "outputId": "ef537961-30b3-4ecd-be2f-b40d7fdb4823"
      },
      "execution_count": 8,
      "outputs": [
        {
          "output_type": "stream",
          "name": "stdout",
          "text": [
            "8.1\n"
          ]
        }
      ]
    },
    {
      "cell_type": "markdown",
      "source": [
        "**Program 3:** Write a Python program to find the area\n",
        "of a rectangle given that its length is **40\n",
        "units** and breadth is **20 units**"
      ],
      "metadata": {
        "id": "8FahU_82eUL9"
      }
    },
    {
      "cell_type": "code",
      "source": [
        "length = 40\n",
        "breadth = 20\n",
        "\n",
        "area = length * breadth\n",
        "# In the above line '*' is the multiplication operator.\n",
        "\n",
        "print(area)"
      ],
      "metadata": {
        "colab": {
          "base_uri": "https://localhost:8080/"
        },
        "id": "hnvLUUAAeE7x",
        "outputId": "cd649502-3908-4cdd-cd3f-5bc15e78b6cb"
      },
      "execution_count": 14,
      "outputs": [
        {
          "output_type": "stream",
          "name": "stdout",
          "text": [
            "800\n"
          ]
        }
      ]
    },
    {
      "cell_type": "markdown",
      "source": [
        "**Concatenation**\n",
        "\n",
        "Concatenation means adding together.\n",
        "\n",
        "Refer to the examples below for the clarity"
      ],
      "metadata": {
        "id": "8R4TounXkFr4"
      }
    },
    {
      "cell_type": "code",
      "source": [
        "print(\"I\" + \"love\" + \"my\" + \"country\" + \"India\")"
      ],
      "metadata": {
        "colab": {
          "base_uri": "https://localhost:8080/"
        },
        "id": "QzpBqrbelKcT",
        "outputId": "df34271d-0bc7-40f4-e73a-059c1cec8630"
      },
      "execution_count": 29,
      "outputs": [
        {
          "output_type": "stream",
          "name": "stdout",
          "text": [
            "IlovemycountryIndia\n"
          ]
        }
      ]
    },
    {
      "cell_type": "markdown",
      "source": [
        "**Way 1:** Jugaad"
      ],
      "metadata": {
        "id": "UlmXoXnZll5W"
      }
    },
    {
      "cell_type": "code",
      "source": [
        "print(\"I \" + \"love \" + \"my \" + \"country\" + \" India\")\n",
        "\n",
        "# We have added spaces in each string to add the spaces in the output as well"
      ],
      "metadata": {
        "colab": {
          "base_uri": "https://localhost:8080/"
        },
        "id": "dRSwme9UlRPa",
        "outputId": "2e27c9ed-7b1c-49f4-d0b4-f3f1f265f223"
      },
      "execution_count": 33,
      "outputs": [
        {
          "output_type": "stream",
          "name": "stdout",
          "text": [
            "I love my country India\n"
          ]
        }
      ]
    },
    {
      "cell_type": "markdown",
      "source": [
        "**Way 2:** Using commas (,) between the strings"
      ],
      "metadata": {
        "id": "XEGWRg61lrqn"
      }
    },
    {
      "cell_type": "code",
      "source": [
        "print(\"I\", \"love\", \"my\", \"country\", \"India\")\n",
        "# Here we are passing multiple arguments, separated by commas to the print function."
      ],
      "metadata": {
        "colab": {
          "base_uri": "https://localhost:8080/"
        },
        "id": "2Ax8eRZCl2mi",
        "outputId": "8523eb8a-42a8-418d-fff9-c2e5ae12e5ab"
      },
      "execution_count": 36,
      "outputs": [
        {
          "output_type": "stream",
          "name": "stdout",
          "text": [
            "I love my country India\n"
          ]
        }
      ]
    },
    {
      "cell_type": "markdown",
      "source": [
        "**Note:**\n",
        "\n",
        "In case the print statement has values of different types and ‘+’ is used instead of comma, it will generate an error\n",
        "\n",
        "The error is discussed in the explicit conversion section"
      ],
      "metadata": {
        "id": "K7cMm_vHmLoO"
      }
    },
    {
      "cell_type": "markdown",
      "source": [
        "**Operators in Python**\n",
        "\n",
        "An operator is used to perform specific mathematical or logical operation on values.\n",
        "\n",
        "In the expression 10 + num, the value 10, and the variable num are operands and the + (plus) sign is an operator\n",
        "\n",
        "1. Arithmetic Operators\n",
        "2. Relational Operators\n",
        "3. Assignment Operators\n",
        "4. Logical Operators\n",
        "5. Identity Operators\n",
        "6. Membership Operators"
      ],
      "metadata": {
        "id": "MEde3aDNoRU_"
      }
    },
    {
      "cell_type": "markdown",
      "source": [
        "**Arithematic Operators:**\n",
        "\n",
        "Arithmetic operators are used to perform the four basic (+,-,*,/) arithmetic operations as well as modular division, floor division and exponentiation."
      ],
      "metadata": {
        "id": "LUxiS3i3o6Qg"
      }
    },
    {
      "cell_type": "markdown",
      "source": [
        "Addition/Subtraction"
      ],
      "metadata": {
        "id": "Mnr45W84qSl1"
      }
    },
    {
      "cell_type": "code",
      "source": [
        "num1 = 5\n",
        "num2 = 6\n",
        "\n",
        "num1 + num2"
      ],
      "metadata": {
        "colab": {
          "base_uri": "https://localhost:8080/"
        },
        "id": "fQZKd-P6pipW",
        "outputId": "ffe705c3-b106-44e7-b642-da12ff84e7c4"
      },
      "execution_count": 41,
      "outputs": [
        {
          "output_type": "execute_result",
          "data": {
            "text/plain": [
              "11"
            ]
          },
          "metadata": {},
          "execution_count": 41
        }
      ]
    },
    {
      "cell_type": "code",
      "source": [
        "str1 = \"Hello\"\n",
        "str2 = \"India\"\n",
        "\n",
        "str1 + str2\n",
        "\n",
        "#  Addition operator can also be used to concatenate two strings on either side of the operator"
      ],
      "metadata": {
        "colab": {
          "base_uri": "https://localhost:8080/",
          "height": 36
        },
        "id": "Joj4zQNSprB8",
        "outputId": "d4b7009a-b378-48f9-a158-f3bc5b015964"
      },
      "execution_count": 44,
      "outputs": [
        {
          "output_type": "execute_result",
          "data": {
            "text/plain": [
              "'HelloIndia'"
            ],
            "application/vnd.google.colaboratory.intrinsic+json": {
              "type": "string"
            }
          },
          "metadata": {},
          "execution_count": 44
        }
      ]
    },
    {
      "cell_type": "markdown",
      "source": [
        "Mulitplication"
      ],
      "metadata": {
        "id": "jM2XiLXaqXMR"
      }
    },
    {
      "cell_type": "code",
      "source": [
        "num1 = 5\n",
        "num2 = 6\n",
        "\n",
        "num1 * num2"
      ],
      "metadata": {
        "colab": {
          "base_uri": "https://localhost:8080/"
        },
        "id": "avq6stp2qYnp",
        "outputId": "bc14c53e-7410-4c06-a68e-d4ae3f0814db"
      },
      "execution_count": 45,
      "outputs": [
        {
          "output_type": "execute_result",
          "data": {
            "text/plain": [
              "30"
            ]
          },
          "metadata": {},
          "execution_count": 45
        }
      ]
    },
    {
      "cell_type": "code",
      "source": [
        "str1 = \"Hello\"\n",
        "\n",
        "str1 * 2\n",
        "# Repeats the item on left of the operator if first operand is a string and second operand is an integer value"
      ],
      "metadata": {
        "colab": {
          "base_uri": "https://localhost:8080/",
          "height": 36
        },
        "id": "nxBvo9l-qflA",
        "outputId": "8924f403-5bb9-4860-89b0-ff1750dc9b91"
      },
      "execution_count": 47,
      "outputs": [
        {
          "output_type": "execute_result",
          "data": {
            "text/plain": [
              "'HelloHello'"
            ],
            "application/vnd.google.colaboratory.intrinsic+json": {
              "type": "string"
            }
          },
          "metadata": {},
          "execution_count": 47
        }
      ]
    },
    {
      "cell_type": "markdown",
      "source": [
        "Division"
      ],
      "metadata": {
        "id": "AaKCxa1kqXAg"
      }
    },
    {
      "cell_type": "code",
      "source": [
        "num1 = 13\n",
        "num2 = 2\n",
        "\n",
        "num3 = num1/num2\n",
        "num3"
      ],
      "metadata": {
        "colab": {
          "base_uri": "https://localhost:8080/"
        },
        "id": "ZdfrJ_G5qy1J",
        "outputId": "d5f6e320-743d-4b83-fd31-89e965048676"
      },
      "execution_count": 48,
      "outputs": [
        {
          "output_type": "execute_result",
          "data": {
            "text/plain": [
              "6.5"
            ]
          },
          "metadata": {},
          "execution_count": 48
        }
      ]
    },
    {
      "cell_type": "markdown",
      "source": [
        "Floor Division"
      ],
      "metadata": {
        "id": "YwVFQ_McrFez"
      }
    },
    {
      "cell_type": "code",
      "source": [
        "num1 = 13\n",
        "num2 = 2\n",
        "\n",
        "num3 = num1//num2\n",
        "# Divides the operand on the left by the operand on the right and returns the quotient by removing the decimal part.\n",
        "# It is sometimes also called integer division.\n",
        "\n",
        "num3"
      ],
      "metadata": {
        "colab": {
          "base_uri": "https://localhost:8080/"
        },
        "id": "X-UilfGOrG9o",
        "outputId": "55497145-5546-47e6-ea99-614d237860a5"
      },
      "execution_count": 51,
      "outputs": [
        {
          "output_type": "execute_result",
          "data": {
            "text/plain": [
              "6"
            ]
          },
          "metadata": {},
          "execution_count": 51
        }
      ]
    },
    {
      "cell_type": "markdown",
      "source": [
        "Modulus"
      ],
      "metadata": {
        "id": "kDXYtjjIrYpl"
      }
    },
    {
      "cell_type": "code",
      "source": [
        "num1 = 13\n",
        "num2 = 5\n",
        "\n",
        "num3 = num1 % num2\n",
        "# Returns the remainder\n",
        "\n",
        "num3"
      ],
      "metadata": {
        "colab": {
          "base_uri": "https://localhost:8080/"
        },
        "id": "xvchecJzrb-O",
        "outputId": "f9dde242-ee12-4e4e-f019-55670d3c727b"
      },
      "execution_count": 55,
      "outputs": [
        {
          "output_type": "execute_result",
          "data": {
            "text/plain": [
              "3"
            ]
          },
          "metadata": {},
          "execution_count": 55
        }
      ]
    },
    {
      "cell_type": "markdown",
      "source": [
        "Exponent"
      ],
      "metadata": {
        "id": "-Wur3E7PrsJM"
      }
    },
    {
      "cell_type": "code",
      "source": [
        "num1 = 15\n",
        "num2 = 2\n",
        "\n",
        "num3 = num1 ** num2\n",
        "# Returns the exponential (power) calculation on operands.\n",
        "\n",
        "num3"
      ],
      "metadata": {
        "colab": {
          "base_uri": "https://localhost:8080/"
        },
        "id": "tRdnRKpFruU-",
        "outputId": "27664635-7ce5-439b-e0eb-2f0b12fb5c78"
      },
      "execution_count": 57,
      "outputs": [
        {
          "output_type": "execute_result",
          "data": {
            "text/plain": [
              "225"
            ]
          },
          "metadata": {},
          "execution_count": 57
        }
      ]
    },
    {
      "cell_type": "markdown",
      "source": [
        "**Relational Operators:**\n",
        "\n",
        "Relational operator compares the values of the operands on its either side and determines the relationship among them."
      ],
      "metadata": {
        "id": "W1ginirMsCxE"
      }
    },
    {
      "cell_type": "code",
      "source": [
        "num1 = 10\n",
        "num2 = 0\n",
        "num3 = 10\n",
        "str1 = \"Good\"\n",
        "str2 = \"Afternoon\""
      ],
      "metadata": {
        "id": "0gIwi0lhsYZc"
      },
      "execution_count": 64,
      "outputs": []
    },
    {
      "cell_type": "code",
      "source": [
        "num1 == num2\n",
        "\n",
        "# If the values of two operands are equal, then the condition is True, otherwise it is False"
      ],
      "metadata": {
        "colab": {
          "base_uri": "https://localhost:8080/"
        },
        "id": "PsuChR0SsUTq",
        "outputId": "29e316b3-b332-4351-d5d2-3b5ac093bfed"
      },
      "execution_count": 60,
      "outputs": [
        {
          "output_type": "execute_result",
          "data": {
            "text/plain": [
              "False"
            ]
          },
          "metadata": {},
          "execution_count": 60
        }
      ]
    },
    {
      "cell_type": "code",
      "source": [
        "num1 != num2\n",
        "# If values of two operands are not equal, then condition is True, otherwise it is False"
      ],
      "metadata": {
        "colab": {
          "base_uri": "https://localhost:8080/"
        },
        "id": "wqd042pLsvjC",
        "outputId": "7ea98c1f-6e39-44a9-a3f1-01a80e67ff7e"
      },
      "execution_count": 65,
      "outputs": [
        {
          "output_type": "execute_result",
          "data": {
            "text/plain": [
              "True"
            ]
          },
          "metadata": {},
          "execution_count": 65
        }
      ]
    },
    {
      "cell_type": "code",
      "source": [
        "num1 != num3"
      ],
      "metadata": {
        "colab": {
          "base_uri": "https://localhost:8080/"
        },
        "id": "0FFkUt6Xs7xW",
        "outputId": "daba3bd9-4954-4b23-b034-67ba7712877a"
      },
      "execution_count": 66,
      "outputs": [
        {
          "output_type": "execute_result",
          "data": {
            "text/plain": [
              "False"
            ]
          },
          "metadata": {},
          "execution_count": 66
        }
      ]
    },
    {
      "cell_type": "code",
      "source": [
        "num1 > num2"
      ],
      "metadata": {
        "colab": {
          "base_uri": "https://localhost:8080/"
        },
        "id": "KOMrWTNUtJM7",
        "outputId": "a76543ca-bb21-40b9-d8bc-3fd3a81fe652"
      },
      "execution_count": 67,
      "outputs": [
        {
          "output_type": "execute_result",
          "data": {
            "text/plain": [
              "True"
            ]
          },
          "metadata": {},
          "execution_count": 67
        }
      ]
    },
    {
      "cell_type": "code",
      "source": [
        "num1 >= num2\n",
        "\n",
        "# Greater than or equal to"
      ],
      "metadata": {
        "colab": {
          "base_uri": "https://localhost:8080/"
        },
        "id": "MWmLPFVUtLPI",
        "outputId": "8f4eb26b-ac28-4c00-941e-fb49014b052a"
      },
      "execution_count": 68,
      "outputs": [
        {
          "output_type": "execute_result",
          "data": {
            "text/plain": [
              "True"
            ]
          },
          "metadata": {},
          "execution_count": 68
        }
      ]
    },
    {
      "cell_type": "code",
      "source": [
        "num1 <= num2"
      ],
      "metadata": {
        "colab": {
          "base_uri": "https://localhost:8080/"
        },
        "id": "Q1ZBpP7ZtUx3",
        "outputId": "db145527-b7ef-44d2-c202-49911f5d62c2"
      },
      "execution_count": 69,
      "outputs": [
        {
          "output_type": "execute_result",
          "data": {
            "text/plain": [
              "False"
            ]
          },
          "metadata": {},
          "execution_count": 69
        }
      ]
    },
    {
      "cell_type": "markdown",
      "source": [
        "**Assignment Operators:**\n",
        "\n",
        "Assignment operator assigns or changes the value of the variable on its left."
      ],
      "metadata": {
        "id": "mObI_7yGtZX9"
      }
    },
    {
      "cell_type": "code",
      "source": [
        "num1 = 2\n",
        "num2 = num1\n",
        "# Assigns value from right-side operand to left side operand\n",
        "\n",
        "num2"
      ],
      "metadata": {
        "colab": {
          "base_uri": "https://localhost:8080/"
        },
        "id": "mF9zZO1Vtjr8",
        "outputId": "f8328996-16a1-4e28-aaf5-339ff89040a8"
      },
      "execution_count": 72,
      "outputs": [
        {
          "output_type": "execute_result",
          "data": {
            "text/plain": [
              "2"
            ]
          },
          "metadata": {},
          "execution_count": 72
        }
      ]
    },
    {
      "cell_type": "code",
      "source": [
        "country = 'India'\n",
        "country"
      ],
      "metadata": {
        "colab": {
          "base_uri": "https://localhost:8080/",
          "height": 36
        },
        "id": "FmvJfP9utrTM",
        "outputId": "61a03860-ce69-43ef-8d91-15233f906473"
      },
      "execution_count": 71,
      "outputs": [
        {
          "output_type": "execute_result",
          "data": {
            "text/plain": [
              "'India'"
            ],
            "application/vnd.google.colaboratory.intrinsic+json": {
              "type": "string"
            }
          },
          "metadata": {},
          "execution_count": 71
        }
      ]
    },
    {
      "cell_type": "markdown",
      "source": [
        "+= adds the value of right-side operand to the\n",
        "left-side operand and assigns the result to the\n",
        "left-side operand\n",
        "\n",
        "Note: x += y is same as x = x + y"
      ],
      "metadata": {
        "id": "3u_SIdq3t1Ww"
      }
    },
    {
      "cell_type": "code",
      "source": [
        "num1 = 10\n",
        "num2 = 2\n",
        "\n",
        "num1 = num1 + num2\n",
        "\n",
        "num1"
      ],
      "metadata": {
        "colab": {
          "base_uri": "https://localhost:8080/"
        },
        "id": "dkqtutgmuIiM",
        "outputId": "d835b91a-f7e6-43f7-81b7-a5274cad2c02"
      },
      "execution_count": 75,
      "outputs": [
        {
          "output_type": "execute_result",
          "data": {
            "text/plain": [
              "12"
            ]
          },
          "metadata": {},
          "execution_count": 75
        }
      ]
    },
    {
      "cell_type": "code",
      "source": [
        "num1 = 10\n",
        "num2 = 2\n",
        "\n",
        "num1 += num2\n",
        "# x += y is same as x = x + y\n",
        "\n",
        "num1"
      ],
      "metadata": {
        "colab": {
          "base_uri": "https://localhost:8080/"
        },
        "id": "9dHEGgyuuB6f",
        "outputId": "e71a78c0-80e6-4774-d108-4090cc24e8fb"
      },
      "execution_count": 76,
      "outputs": [
        {
          "output_type": "execute_result",
          "data": {
            "text/plain": [
              "12"
            ]
          },
          "metadata": {},
          "execution_count": 76
        }
      ]
    },
    {
      "cell_type": "code",
      "source": [
        "str1 = 'Hello'\n",
        "str2 = 'India'\n",
        "\n",
        "str1 += str2\n",
        "str1"
      ],
      "metadata": {
        "colab": {
          "base_uri": "https://localhost:8080/",
          "height": 36
        },
        "id": "uPj_5nHyuUnA",
        "outputId": "195c32fd-2735-490f-b97a-bac4ac613ba6"
      },
      "execution_count": 77,
      "outputs": [
        {
          "output_type": "execute_result",
          "data": {
            "text/plain": [
              "'HelloIndia'"
            ],
            "application/vnd.google.colaboratory.intrinsic+json": {
              "type": "string"
            }
          },
          "metadata": {},
          "execution_count": 77
        }
      ]
    },
    {
      "cell_type": "code",
      "source": [
        "num1 = 10\n",
        "num2 = 2\n",
        "\n",
        "num1 -= num2\n",
        "# x -= y is same as x = x - y\n",
        "\n",
        "num1"
      ],
      "metadata": {
        "colab": {
          "base_uri": "https://localhost:8080/"
        },
        "id": "t1AOgnxjuaVg",
        "outputId": "84f6a7af-de4b-4e8d-840b-3ea34a171b95"
      },
      "execution_count": 78,
      "outputs": [
        {
          "output_type": "execute_result",
          "data": {
            "text/plain": [
              "8"
            ]
          },
          "metadata": {},
          "execution_count": 78
        }
      ]
    },
    {
      "cell_type": "code",
      "source": [
        "num1 = 2\n",
        "num2 = 3\n",
        "\n",
        "num1 *= 3\n",
        "# x *= y is same as x = x * y\n",
        "\n",
        "num1"
      ],
      "metadata": {
        "colab": {
          "base_uri": "https://localhost:8080/"
        },
        "id": "owGH9DMOujBR",
        "outputId": "70170097-b6ee-4e23-960f-80d261c69ea5"
      },
      "execution_count": 79,
      "outputs": [
        {
          "output_type": "execute_result",
          "data": {
            "text/plain": [
              "6"
            ]
          },
          "metadata": {},
          "execution_count": 79
        }
      ]
    },
    {
      "cell_type": "code",
      "source": [
        "a = 'India'\n",
        "a *= 3\n",
        "\n",
        "a"
      ],
      "metadata": {
        "colab": {
          "base_uri": "https://localhost:8080/",
          "height": 36
        },
        "id": "LJ3yew8Puv8h",
        "outputId": "8514a255-d33f-4dbe-a649-1978c19934d9"
      },
      "execution_count": 80,
      "outputs": [
        {
          "output_type": "execute_result",
          "data": {
            "text/plain": [
              "'IndiaIndiaIndia'"
            ],
            "application/vnd.google.colaboratory.intrinsic+json": {
              "type": "string"
            }
          },
          "metadata": {},
          "execution_count": 80
        }
      ]
    },
    {
      "cell_type": "code",
      "source": [
        "num1 = 2\n",
        "num2 = 3\n",
        "\n",
        "num1 **= 3\n",
        "# x **= y is same as x = x ** y\n",
        "\n",
        "num1"
      ],
      "metadata": {
        "colab": {
          "base_uri": "https://localhost:8080/"
        },
        "id": "C4BxbbCDu3tZ",
        "outputId": "ac7a31a6-0398-472b-d314-6a2de24e1f25"
      },
      "execution_count": 82,
      "outputs": [
        {
          "output_type": "execute_result",
          "data": {
            "text/plain": [
              "8"
            ]
          },
          "metadata": {},
          "execution_count": 82
        }
      ]
    },
    {
      "cell_type": "markdown",
      "source": [
        "**Logical Operators:**\n",
        "\n",
        "There are three logical operators supported by Python.\n",
        "These operators (and, or, not) are to be written in lower case only.\n",
        "\n",
        "The logical operator evaluates to either True or False based on the logical operands on either side."
      ],
      "metadata": {
        "id": "SBqN1EJ3vC1o"
      }
    },
    {
      "cell_type": "code",
      "source": [
        "True and True"
      ],
      "metadata": {
        "colab": {
          "base_uri": "https://localhost:8080/"
        },
        "id": "sTCsHtIjvSsS",
        "outputId": "399726f8-554d-49ca-b17f-f8140771c92a"
      },
      "execution_count": 83,
      "outputs": [
        {
          "output_type": "execute_result",
          "data": {
            "text/plain": [
              "True"
            ]
          },
          "metadata": {},
          "execution_count": 83
        }
      ]
    },
    {
      "cell_type": "code",
      "source": [
        "False and True"
      ],
      "metadata": {
        "colab": {
          "base_uri": "https://localhost:8080/"
        },
        "id": "8jo0qojPvUkL",
        "outputId": "3beb370a-dc6f-4405-bb87-59898ad3c126"
      },
      "execution_count": 84,
      "outputs": [
        {
          "output_type": "execute_result",
          "data": {
            "text/plain": [
              "False"
            ]
          },
          "metadata": {},
          "execution_count": 84
        }
      ]
    },
    {
      "cell_type": "code",
      "source": [
        "False and False"
      ],
      "metadata": {
        "colab": {
          "base_uri": "https://localhost:8080/"
        },
        "id": "3Q268sLnvXEB",
        "outputId": "3e8e63bc-fc58-4eaa-876c-1e02e39a3c4e"
      },
      "execution_count": 85,
      "outputs": [
        {
          "output_type": "execute_result",
          "data": {
            "text/plain": [
              "False"
            ]
          },
          "metadata": {},
          "execution_count": 85
        }
      ]
    },
    {
      "cell_type": "code",
      "source": [
        "False or True"
      ],
      "metadata": {
        "colab": {
          "base_uri": "https://localhost:8080/"
        },
        "id": "3tCJaKAcvY4R",
        "outputId": "d2439957-7eb4-4cf6-f9d7-757cfbb0819a"
      },
      "execution_count": 86,
      "outputs": [
        {
          "output_type": "execute_result",
          "data": {
            "text/plain": [
              "True"
            ]
          },
          "metadata": {},
          "execution_count": 86
        }
      ]
    },
    {
      "cell_type": "markdown",
      "source": [
        "**Identity Operators:**\n",
        "\n",
        "Identity operators are used to determine **whether the value of a variable is of a certain type or not. **\n",
        "\n",
        "Identity operators can also be used to determine whether two variables are referring to the same object or not.\n",
        "\n",
        "1. is\n",
        "2. is not"
      ],
      "metadata": {
        "id": "fh_bMmeZvhG9"
      }
    },
    {
      "cell_type": "code",
      "source": [
        "num1 = 10\n",
        "\n",
        "type(num1) is float"
      ],
      "metadata": {
        "colab": {
          "base_uri": "https://localhost:8080/"
        },
        "id": "JjfqxzgIv_xI",
        "outputId": "efaa4464-fc75-4c15-9080-1af20127ce54"
      },
      "execution_count": 88,
      "outputs": [
        {
          "output_type": "execute_result",
          "data": {
            "text/plain": [
              "False"
            ]
          },
          "metadata": {},
          "execution_count": 88
        }
      ]
    },
    {
      "cell_type": "code",
      "source": [
        "num2 = num1"
      ],
      "metadata": {
        "id": "aIhcxC2jwLVH"
      },
      "execution_count": 89,
      "outputs": []
    },
    {
      "cell_type": "code",
      "source": [
        "num1 is num2\n",
        "\n",
        "# Above line is same as num1 == num2"
      ],
      "metadata": {
        "colab": {
          "base_uri": "https://localhost:8080/"
        },
        "id": "bdjZeI7pwOHs",
        "outputId": "ef906688-4163-47d5-f22d-53026dd55760"
      },
      "execution_count": 92,
      "outputs": [
        {
          "output_type": "execute_result",
          "data": {
            "text/plain": [
              "True"
            ]
          },
          "metadata": {},
          "execution_count": 92
        }
      ]
    },
    {
      "cell_type": "code",
      "source": [
        "num1 is not num2"
      ],
      "metadata": {
        "colab": {
          "base_uri": "https://localhost:8080/"
        },
        "id": "AR-37nWywZ1q",
        "outputId": "681553a6-e1ac-42c6-a704-c4d1e7b44988"
      },
      "execution_count": 93,
      "outputs": [
        {
          "output_type": "execute_result",
          "data": {
            "text/plain": [
              "False"
            ]
          },
          "metadata": {},
          "execution_count": 93
        }
      ]
    },
    {
      "cell_type": "markdown",
      "source": [
        "**Membership Operators:**\n",
        "\n",
        "Membership operators are used to check if a value is a\n",
        "member of the given sequence or not.\n",
        "\n",
        "1. in\n",
        "2. not in\n",
        "\n",
        "**Note:** We'll see it in action once we dive into sequence data types"
      ],
      "metadata": {
        "id": "uuKT6KegwerK"
      }
    },
    {
      "cell_type": "markdown",
      "source": [
        "**Taking input from the user**\n",
        "\n",
        "Sometimes, a program needs to interact with the user’s\n",
        "to get some input data or information from the end user\n",
        "and process it to give the desired output.\n",
        "\n",
        "In Python, we have the input() function for taking the user input.\n",
        "\n",
        "The input() function prompts the user to enter data."
      ],
      "metadata": {
        "id": "M2f3nZNHgqjS"
      }
    },
    {
      "cell_type": "code",
      "source": [
        "fname = input(\"Enter your first name: \")"
      ],
      "metadata": {
        "colab": {
          "base_uri": "https://localhost:8080/"
        },
        "id": "8Mlj83auhCP3",
        "outputId": "02d24b17-d621-4bc6-9672-b89e00ca614e"
      },
      "execution_count": 16,
      "outputs": [
        {
          "name": "stdout",
          "output_type": "stream",
          "text": [
            "Enter your first name: Vimal\n"
          ]
        }
      ]
    },
    {
      "cell_type": "code",
      "source": [
        "profession = input(\"Please enter your profession: \")"
      ],
      "metadata": {
        "colab": {
          "base_uri": "https://localhost:8080/"
        },
        "id": "G6AUQxtahLfl",
        "outputId": "73e16be2-6683-46fd-a090-8d1949060963"
      },
      "execution_count": 23,
      "outputs": [
        {
          "name": "stdout",
          "output_type": "stream",
          "text": [
            "Please enter your profession: student\n"
          ]
        }
      ]
    },
    {
      "cell_type": "code",
      "source": [
        "org = input(\"Please enter the name of the organization you're associated with: \")"
      ],
      "metadata": {
        "colab": {
          "base_uri": "https://localhost:8080/"
        },
        "id": "WZyfMl8jhkQs",
        "outputId": "d82652e9-bd48-4c5a-e344-a82c0e77ed04"
      },
      "execution_count": 24,
      "outputs": [
        {
          "name": "stdout",
          "output_type": "stream",
          "text": [
            "Please enter the name of the organization you're associated with: SOLA, IIT Jodhpur\n"
          ]
        }
      ]
    },
    {
      "cell_type": "code",
      "source": [
        "print(fname, \"is a\", profession, \"at\", org)"
      ],
      "metadata": {
        "colab": {
          "base_uri": "https://localhost:8080/"
        },
        "id": "LvkpNh4GhYua",
        "outputId": "b1123caf-2dcc-4ef1-e8d1-60993972c2a3"
      },
      "execution_count": 25,
      "outputs": [
        {
          "output_type": "stream",
          "name": "stdout",
          "text": [
            "Vimal is a student at SOLA, IIT Jodhpur\n"
          ]
        }
      ]
    },
    {
      "cell_type": "markdown",
      "source": [
        "**Type Conversion**\n",
        "\n",
        " Consider the following program:"
      ],
      "metadata": {
        "id": "tGZ9Bq6Rf9BA"
      }
    },
    {
      "cell_type": "code",
      "source": [
        " num1 = input(\"Enter a number and I'll double it: \")\n",
        " num1 = num1 * 2\n",
        "\n",
        " print(num1)"
      ],
      "metadata": {
        "colab": {
          "base_uri": "https://localhost:8080/"
        },
        "id": "WY2vghJPnEra",
        "outputId": "a094b4ce-1a49-440d-ce05-c7fd13c1346c"
      },
      "execution_count": 38,
      "outputs": [
        {
          "output_type": "stream",
          "name": "stdout",
          "text": [
            "Enter a number and I'll double it: 2\n",
            "22\n"
          ]
        }
      ]
    },
    {
      "cell_type": "markdown",
      "source": [
        "The program was expected to display double the value of the number received and store in variable num1.\n",
        "\n",
        "Which means that if a user enters 2 and expects the program to display 4 as the output, but the program displays 22"
      ],
      "metadata": {
        "id": "4h974Pz7nFIQ"
      }
    },
    {
      "cell_type": "markdown",
      "source": [
        "This is because the **value returned by the input function is a string** (\"2\") by default.\n",
        "\n",
        "As a result, in statement num1 = num1 * 2, num1 has string value and * acts as repetition operator which results in output as \"22\". To get 4 as output, we need to convert the data type of the value entered by the user to integer.\n",
        "\n",
        "Thus, we modify the program as follows:  "
      ],
      "metadata": {
        "id": "wqV7Tchmnpc2"
      }
    },
    {
      "cell_type": "code",
      "source": [
        "num1 = input(\"Enter a number and I'll double it: \")\n",
        "\n",
        "num1 = int(num1)\n",
        "#convert string input to integer\n",
        "\n",
        "num1 = num1 * 2\n",
        "print(num1)"
      ],
      "metadata": {
        "colab": {
          "base_uri": "https://localhost:8080/"
        },
        "id": "YbutD-Rtn9kj",
        "outputId": "65f9fce8-c413-49d5-cfa5-3b1508e6bef2"
      },
      "execution_count": 39,
      "outputs": [
        {
          "output_type": "stream",
          "name": "stdout",
          "text": [
            "Enter a number and I'll double it: 2\n",
            "4\n"
          ]
        }
      ]
    },
    {
      "cell_type": "markdown",
      "source": [
        "**Program 4**: Write a Python program to convert a given tempreture in Celsius (°C) to Farenheit (°F).\n",
        "\n",
        "(Hint: T(°F) = T(°C) × 9/5 + 32)\n",
        "\n",
        "Note: Take the input from the user (for the tempreture in celsius)"
      ],
      "metadata": {
        "id": "Y7SCh9SAiYF2"
      }
    },
    {
      "cell_type": "code",
      "source": [
        "temp_c = int(input('Please enter the tempreture in Celsius: '))\n",
        "\n",
        "temp_f = temp_c * 9/5 + 32\n",
        "\n",
        "print(temp_c, \"degree celsius is\", temp_f, \"degree farenheit\")"
      ],
      "metadata": {
        "colab": {
          "base_uri": "https://localhost:8080/"
        },
        "id": "iBKMnyoEi_g1",
        "outputId": "71d0781b-c8a7-4c47-d638-e6e9d9f217e9"
      },
      "execution_count": 28,
      "outputs": [
        {
          "output_type": "stream",
          "name": "stdout",
          "text": [
            "Please enter the tempreture in Celsius: 40\n",
            "40 degree celsius is 104.0 degree farenheit\n"
          ]
        }
      ]
    },
    {
      "cell_type": "markdown",
      "source": [
        "**Bonus:** Instead of '200' as the output, we need the below line as the output.\n",
        "\n",
        "'The area of the rectangle that has length 10 and breadth 20 has the area 200'"
      ],
      "metadata": {
        "id": "MU_DSmA_eyls"
      }
    },
    {
      "cell_type": "code",
      "source": [
        "print('The area of the rectange that has length: ' + str(length) +' and breadth: ' + str(breadth) + ' has the area: ' + str(area))"
      ],
      "metadata": {
        "colab": {
          "base_uri": "https://localhost:8080/"
        },
        "id": "F7ECWWdzeveS",
        "outputId": "69609c8c-eace-4519-fc38-95014df25eef"
      },
      "execution_count": 15,
      "outputs": [
        {
          "output_type": "stream",
          "name": "stdout",
          "text": [
            "The area of the rectange that has length: 40 and breadth: 20 has the area: 800\n"
          ]
        }
      ]
    }
  ]
}